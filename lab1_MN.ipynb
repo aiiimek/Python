{
  "nbformat": 4,
  "nbformat_minor": 0,
  "metadata": {
    "colab": {
      "provenance": [],
      "authorship_tag": "ABX9TyPUvKfjp7GuJF8qDu4zU/TC",
      "include_colab_link": true
    },
    "kernelspec": {
      "name": "python3",
      "display_name": "Python 3"
    },
    "language_info": {
      "name": "python"
    }
  },
  "cells": [
    {
      "cell_type": "markdown",
      "metadata": {
        "id": "view-in-github",
        "colab_type": "text"
      },
      "source": [
        "<a href=\"https://colab.research.google.com/github/aiiimek/Python/blob/main/lab1_MN.ipynb\" target=\"_parent\"><img src=\"https://colab.research.google.com/assets/colab-badge.svg\" alt=\"Open In Colab\"/></a>"
      ]
    },
    {
      "cell_type": "code",
      "execution_count": null,
      "metadata": {
        "colab": {
          "base_uri": "https://localhost:8080/"
        },
        "id": "UxlSpmAzhIFT",
        "outputId": "4a4a0a29-da95-4629-c580-b369042d80dd"
      },
      "outputs": [
        {
          "output_type": "stream",
          "name": "stdout",
          "text": [
            "sin(1.047198)=0.866025\n",
            "cos(1.047198)=0.500000\n",
            "tan(1.047198)=1.732051\n",
            "ctg(1.047198)=0.577350\n"
          ]
        }
      ],
      "source": [
        "\n",
        "import numpy as np\n",
        "\n",
        "a = np.pi/3\n",
        "print(\"sin(%f)=%f\" % (a, np.sin(a)))\n",
        "print(\"cos(%f)=%f\" % (a, np.cos(a)))\n",
        "print(\"tan(%f)=%f\" % (a, np.tan(a)))\n",
        "print(\"ctg(%f)=%f\" % (a, 1.0/np.tan(a)))"
      ]
    },
    {
      "cell_type": "code",
      "source": [
        "import numpy as np\n",
        "\n",
        "xp = 0\n",
        "xk = 2 * np.pi\n",
        "krok = 0.1\n",
        "\n",
        "\n",
        "liczba_punktow = np.abs((xk - xp) / krok)\n",
        "liczba_punktow_int = int(np.ceil(liczba_punktow))\n",
        "\n",
        "print(\"Liczba punktów wartości x: %d\" % liczba_punktow_int)\n",
        "\n",
        "x = xp\n",
        "for i in range(liczba_punktow_int):\n",
        "    x += krok\n",
        "    sin_x = np.sin(x)\n",
        "    cos_x = np.cos(x)\n",
        "    tan_x = np.tan(x)\n",
        "\n",
        "\n",
        "    if np.sin(x) != 0:\n",
        "        cot_x = cos_x / sin_x\n",
        "    else:\n",
        "        cot_x = np.inf\n",
        "\n",
        "    print(f\"x = {x:.2f} | sin(x) = {sin_x:.4f} | cos(x) = {cos_x:.4f} | tan(x) = {tan_x:.4f} | cot(x) = {cot_x:.4f}\")\n"
      ],
      "metadata": {
        "colab": {
          "base_uri": "https://localhost:8080/"
        },
        "id": "Ll4T8QRVkEoP",
        "outputId": "e25ec0de-96d7-45ce-99d6-e4f1749d020c"
      },
      "execution_count": null,
      "outputs": [
        {
          "output_type": "stream",
          "name": "stdout",
          "text": [
            "Liczba punktów wartości x: 63\n",
            "x = 0.10 | sin(x) = 0.0998 | cos(x) = 0.9950 | tan(x) = 0.1003 | cot(x) = 9.9666\n",
            "x = 0.20 | sin(x) = 0.1987 | cos(x) = 0.9801 | tan(x) = 0.2027 | cot(x) = 4.9332\n",
            "x = 0.30 | sin(x) = 0.2955 | cos(x) = 0.9553 | tan(x) = 0.3093 | cot(x) = 3.2327\n",
            "x = 0.40 | sin(x) = 0.3894 | cos(x) = 0.9211 | tan(x) = 0.4228 | cot(x) = 2.3652\n",
            "x = 0.50 | sin(x) = 0.4794 | cos(x) = 0.8776 | tan(x) = 0.5463 | cot(x) = 1.8305\n",
            "x = 0.60 | sin(x) = 0.5646 | cos(x) = 0.8253 | tan(x) = 0.6841 | cot(x) = 1.4617\n",
            "x = 0.70 | sin(x) = 0.6442 | cos(x) = 0.7648 | tan(x) = 0.8423 | cot(x) = 1.1872\n",
            "x = 0.80 | sin(x) = 0.7174 | cos(x) = 0.6967 | tan(x) = 1.0296 | cot(x) = 0.9712\n",
            "x = 0.90 | sin(x) = 0.7833 | cos(x) = 0.6216 | tan(x) = 1.2602 | cot(x) = 0.7936\n",
            "x = 1.00 | sin(x) = 0.8415 | cos(x) = 0.5403 | tan(x) = 1.5574 | cot(x) = 0.6421\n",
            "x = 1.10 | sin(x) = 0.8912 | cos(x) = 0.4536 | tan(x) = 1.9648 | cot(x) = 0.5090\n",
            "x = 1.20 | sin(x) = 0.9320 | cos(x) = 0.3624 | tan(x) = 2.5722 | cot(x) = 0.3888\n",
            "x = 1.30 | sin(x) = 0.9636 | cos(x) = 0.2675 | tan(x) = 3.6021 | cot(x) = 0.2776\n",
            "x = 1.40 | sin(x) = 0.9854 | cos(x) = 0.1700 | tan(x) = 5.7979 | cot(x) = 0.1725\n",
            "x = 1.50 | sin(x) = 0.9975 | cos(x) = 0.0707 | tan(x) = 14.1014 | cot(x) = 0.0709\n",
            "x = 1.60 | sin(x) = 0.9996 | cos(x) = -0.0292 | tan(x) = -34.2325 | cot(x) = -0.0292\n",
            "x = 1.70 | sin(x) = 0.9917 | cos(x) = -0.1288 | tan(x) = -7.6966 | cot(x) = -0.1299\n",
            "x = 1.80 | sin(x) = 0.9738 | cos(x) = -0.2272 | tan(x) = -4.2863 | cot(x) = -0.2333\n",
            "x = 1.90 | sin(x) = 0.9463 | cos(x) = -0.3233 | tan(x) = -2.9271 | cot(x) = -0.3416\n",
            "x = 2.00 | sin(x) = 0.9093 | cos(x) = -0.4161 | tan(x) = -2.1850 | cot(x) = -0.4577\n",
            "x = 2.10 | sin(x) = 0.8632 | cos(x) = -0.5048 | tan(x) = -1.7098 | cot(x) = -0.5848\n",
            "x = 2.20 | sin(x) = 0.8085 | cos(x) = -0.5885 | tan(x) = -1.3738 | cot(x) = -0.7279\n",
            "x = 2.30 | sin(x) = 0.7457 | cos(x) = -0.6663 | tan(x) = -1.1192 | cot(x) = -0.8935\n",
            "x = 2.40 | sin(x) = 0.6755 | cos(x) = -0.7374 | tan(x) = -0.9160 | cot(x) = -1.0917\n",
            "x = 2.50 | sin(x) = 0.5985 | cos(x) = -0.8011 | tan(x) = -0.7470 | cot(x) = -1.3386\n",
            "x = 2.60 | sin(x) = 0.5155 | cos(x) = -0.8569 | tan(x) = -0.6016 | cot(x) = -1.6622\n",
            "x = 2.70 | sin(x) = 0.4274 | cos(x) = -0.9041 | tan(x) = -0.4727 | cot(x) = -2.1154\n",
            "x = 2.80 | sin(x) = 0.3350 | cos(x) = -0.9422 | tan(x) = -0.3555 | cot(x) = -2.8127\n",
            "x = 2.90 | sin(x) = 0.2392 | cos(x) = -0.9710 | tan(x) = -0.2464 | cot(x) = -4.0584\n",
            "x = 3.00 | sin(x) = 0.1411 | cos(x) = -0.9900 | tan(x) = -0.1425 | cot(x) = -7.0153\n",
            "x = 3.10 | sin(x) = 0.0416 | cos(x) = -0.9991 | tan(x) = -0.0416 | cot(x) = -24.0288\n",
            "x = 3.20 | sin(x) = -0.0584 | cos(x) = -0.9983 | tan(x) = 0.0585 | cot(x) = 17.1017\n",
            "x = 3.30 | sin(x) = -0.1577 | cos(x) = -0.9875 | tan(x) = 0.1597 | cot(x) = 6.2599\n",
            "x = 3.40 | sin(x) = -0.2555 | cos(x) = -0.9668 | tan(x) = 0.2643 | cot(x) = 3.7833\n",
            "x = 3.50 | sin(x) = -0.3508 | cos(x) = -0.9365 | tan(x) = 0.3746 | cot(x) = 2.6696\n",
            "x = 3.60 | sin(x) = -0.4425 | cos(x) = -0.8968 | tan(x) = 0.4935 | cot(x) = 2.0265\n",
            "x = 3.70 | sin(x) = -0.5298 | cos(x) = -0.8481 | tan(x) = 0.6247 | cot(x) = 1.6007\n",
            "x = 3.80 | sin(x) = -0.6119 | cos(x) = -0.7910 | tan(x) = 0.7736 | cot(x) = 1.2927\n",
            "x = 3.90 | sin(x) = -0.6878 | cos(x) = -0.7259 | tan(x) = 0.9474 | cot(x) = 1.0555\n",
            "x = 4.00 | sin(x) = -0.7568 | cos(x) = -0.6536 | tan(x) = 1.1578 | cot(x) = 0.8637\n",
            "x = 4.10 | sin(x) = -0.8183 | cos(x) = -0.5748 | tan(x) = 1.4235 | cot(x) = 0.7025\n",
            "x = 4.20 | sin(x) = -0.8716 | cos(x) = -0.4903 | tan(x) = 1.7778 | cot(x) = 0.5625\n",
            "x = 4.30 | sin(x) = -0.9162 | cos(x) = -0.4008 | tan(x) = 2.2858 | cot(x) = 0.4375\n",
            "x = 4.40 | sin(x) = -0.9516 | cos(x) = -0.3073 | tan(x) = 3.0963 | cot(x) = 0.3230\n",
            "x = 4.50 | sin(x) = -0.9775 | cos(x) = -0.2108 | tan(x) = 4.6373 | cot(x) = 0.2156\n",
            "x = 4.60 | sin(x) = -0.9937 | cos(x) = -0.1122 | tan(x) = 8.8602 | cot(x) = 0.1129\n",
            "x = 4.70 | sin(x) = -0.9999 | cos(x) = -0.0124 | tan(x) = 80.7128 | cot(x) = 0.0124\n",
            "x = 4.80 | sin(x) = -0.9962 | cos(x) = 0.0875 | tan(x) = -11.3849 | cot(x) = -0.0878\n",
            "x = 4.90 | sin(x) = -0.9825 | cos(x) = 0.1865 | tan(x) = -5.2675 | cot(x) = -0.1898\n",
            "x = 5.00 | sin(x) = -0.9589 | cos(x) = 0.2837 | tan(x) = -3.3805 | cot(x) = -0.2958\n",
            "x = 5.10 | sin(x) = -0.9258 | cos(x) = 0.3780 | tan(x) = -2.4494 | cot(x) = -0.4083\n",
            "x = 5.20 | sin(x) = -0.8835 | cos(x) = 0.4685 | tan(x) = -1.8856 | cot(x) = -0.5303\n",
            "x = 5.30 | sin(x) = -0.8323 | cos(x) = 0.5544 | tan(x) = -1.5013 | cot(x) = -0.6661\n",
            "x = 5.40 | sin(x) = -0.7728 | cos(x) = 0.6347 | tan(x) = -1.2175 | cot(x) = -0.8213\n",
            "x = 5.50 | sin(x) = -0.7055 | cos(x) = 0.7087 | tan(x) = -0.9956 | cot(x) = -1.0044\n",
            "x = 5.60 | sin(x) = -0.6313 | cos(x) = 0.7756 | tan(x) = -0.8139 | cot(x) = -1.2286\n",
            "x = 5.70 | sin(x) = -0.5507 | cos(x) = 0.8347 | tan(x) = -0.6597 | cot(x) = -1.5158\n",
            "x = 5.80 | sin(x) = -0.4646 | cos(x) = 0.8855 | tan(x) = -0.5247 | cot(x) = -1.9060\n",
            "x = 5.90 | sin(x) = -0.3739 | cos(x) = 0.9275 | tan(x) = -0.4031 | cot(x) = -2.4807\n",
            "x = 6.00 | sin(x) = -0.2794 | cos(x) = 0.9602 | tan(x) = -0.2910 | cot(x) = -3.4364\n",
            "x = 6.10 | sin(x) = -0.1822 | cos(x) = 0.9833 | tan(x) = -0.1853 | cot(x) = -5.3978\n",
            "x = 6.20 | sin(x) = -0.0831 | cos(x) = 0.9965 | tan(x) = -0.0834 | cot(x) = -11.9936\n",
            "x = 6.30 | sin(x) = 0.0168 | cos(x) = 0.9999 | tan(x) = 0.0168 | cot(x) = 59.4662\n"
          ]
        }
      ]
    },
    {
      "cell_type": "code",
      "source": [
        "import numpy as np\n",
        "\n",
        "N = 10\n",
        "\n",
        "for i in range(0, 2 * N, 2):\n",
        "    print(i)"
      ],
      "metadata": {
        "colab": {
          "base_uri": "https://localhost:8080/"
        },
        "id": "nz5JcSfWqwMG",
        "outputId": "95c9ad6d-6f26-4eba-86e1-981f23708fd5"
      },
      "execution_count": null,
      "outputs": [
        {
          "output_type": "stream",
          "name": "stdout",
          "text": [
            "0\n",
            "2\n",
            "4\n",
            "6\n",
            "8\n",
            "10\n",
            "12\n",
            "14\n",
            "16\n",
            "18\n"
          ]
        }
      ]
    },
    {
      "cell_type": "code",
      "source": [
        "import math\n",
        "\n",
        "def rozwiaz_rownanie_kwadratowe(a, b, c):\n",
        "\n",
        "    delta = b**2 - 4*a*c\n",
        "\n",
        "    if delta > 0:\n",
        "        x1 = (-b - math.sqrt(delta)) / (2 * a)\n",
        "        x2 = (-b + math.sqrt(delta)) / (2 * a)\n",
        "        print(f\"Równanie ma dwa pierwiastki rzeczywiste: x1 = {x1}, x2 = {x2}\")\n",
        "    elif delta == 0:\n",
        "\n",
        "        x = -b / (2 * a)\n",
        "        print(f\"Równanie ma jeden pierwiastek podwójny: x = {x}\")\n",
        "    else:\n",
        "\n",
        "        real_part = -b / (2 * a)\n",
        "        imaginary_part = math.sqrt(-delta) / (2 * a)\n",
        "        print(f\"Równanie ma dwa pierwiastki zespolone: x1 = {real_part} - {imaginary_part}i, x2 = {real_part} + {imaginary_part}i\")\n",
        "\n",
        "a = float(input(\"Podaj współczynnik a: \"))\n",
        "b = float(input(\"Podaj współczynnik b: \"))\n",
        "c = float(input(\"Podaj współczynnik c: \"))\n",
        "\n",
        "\n",
        "rozwiaz_rownanie_kwadratowe(a, b, c)\n",
        "\n"
      ],
      "metadata": {
        "colab": {
          "base_uri": "https://localhost:8080/"
        },
        "id": "7YqPq23NtL4-",
        "outputId": "bf003967-d859-4e35-ed99-1dd2dda254cb"
      },
      "execution_count": null,
      "outputs": [
        {
          "output_type": "stream",
          "name": "stdout",
          "text": [
            "Podaj współczynnik a: 14\n",
            "Podaj współczynnik b: 8\n",
            "Podaj współczynnik c: 6\n",
            "Równanie ma dwa pierwiastki zespolone: x1 = -0.2857142857142857 - 0.5890150893739515i, x2 = -0.2857142857142857 + 0.5890150893739515i\n"
          ]
        }
      ]
    },
    {
      "cell_type": "code",
      "source": [
        "n = 5\n",
        "silnia = 1\n",
        "\n",
        "for i in range(1, n + 1):\n",
        "    silnia *= i\n",
        "\n",
        "\n",
        "print(f\"Silnia z {n} wynosi {silnia}\")\n"
      ],
      "metadata": {
        "colab": {
          "base_uri": "https://localhost:8080/"
        },
        "id": "ZgrZw-fOutD-",
        "outputId": "ee4a4384-1bec-4e66-f2d2-1f1cc6e1fc1d"
      },
      "execution_count": null,
      "outputs": [
        {
          "output_type": "stream",
          "name": "stdout",
          "text": [
            "Silnia z 5 wynosi 120\n"
          ]
        }
      ]
    },
    {
      "cell_type": "code",
      "source": [
        "import numpy as np\n",
        "\n",
        "x = 3.0\n",
        "xn = 0.1\n",
        "blad = 0.000001\n",
        "x_old = 0\n",
        "while abs (x_old-xn)>blad:\n",
        "  x_old=xn\n",
        "  xn=(xn+x/xn)/2\n",
        "\n",
        "  print (\"x=%lf\" % xn)\n"
      ],
      "metadata": {
        "colab": {
          "base_uri": "https://localhost:8080/"
        },
        "id": "eDxbruugxLoO",
        "outputId": "8e20e4ab-f1d3-495f-e669-1a63fafba698"
      },
      "execution_count": null,
      "outputs": [
        {
          "output_type": "stream",
          "name": "stdout",
          "text": [
            "x=15.050000\n",
            "x=7.624668\n",
            "x=4.009064\n",
            "x=2.378684\n",
            "x=1.819943\n",
            "x=1.734173\n",
            "x=1.732052\n",
            "x=1.732051\n",
            "x=1.732051\n"
          ]
        }
      ]
    },
    {
      "cell_type": "markdown",
      "source": [
        "kod realizuje algorytm   newtona raphsona do  obliczania pierwiastka kwadratowego z x"
      ],
      "metadata": {
        "id": "a99Afws3yAPu"
      }
    }
  ]
}